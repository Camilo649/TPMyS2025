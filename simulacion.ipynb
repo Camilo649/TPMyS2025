{
 "cells": [
  {
   "cell_type": "markdown",
   "id": "45a3d8c2",
   "metadata": {},
   "source": [
    "# Inicialización del Entorno"
   ]
  },
  {
   "cell_type": "markdown",
   "id": "869728ae",
   "metadata": {},
   "source": [
    "## Parámetros Globales"
   ]
  },
  {
   "cell_type": "code",
   "execution_count": 124,
   "id": "c24096bc",
   "metadata": {},
   "outputs": [],
   "source": [
    "from math import sqrt, pi, erf\n",
    "\n",
    "MAX_UINT32 = 0xFFFFFFFF\n",
    "MAX_UINT64 = 0xFFFFFFFFFFFFFFFF\n",
    "sqrtPi = sqrt(pi)\n",
    "erf1 = erf(1)\n",
    "dimensiones = [2, 5, 10]\n",
    "tamaños = [10**4, 10**5, 10**6]\n",
    "valores_reales = {d: ((sqrtPi * erf1) / 2) ** d for d in dimensiones}"
   ]
  },
  {
   "cell_type": "markdown",
   "id": "1c01431c",
   "metadata": {},
   "source": [
    "## Funciones Auxiliares"
   ]
  },
  {
   "cell_type": "code",
   "execution_count": 125,
   "id": "8fd80add",
   "metadata": {},
   "outputs": [],
   "source": [
    "import ctypes\n",
    "import tempfile\n",
    "import subprocess\n",
    "import os\n",
    "\n",
    "c_code = r\"\"\"\n",
    "#include <immintrin.h>\n",
    "\n",
    "int rdseed32(unsigned int *out) {\n",
    "    int ok;\n",
    "    for (int i = 0; i < 10; ++i) {\n",
    "        ok = _rdseed32_step(out);\n",
    "        if (ok) return 1;\n",
    "    }\n",
    "    return 0;\n",
    "}\n",
    "\n",
    "int rdseed64(unsigned long long *out) {\n",
    "    int ok;\n",
    "    for (int i = 0; i < 10; ++i) {\n",
    "        ok = _rdseed64_step(out);\n",
    "        if (ok) return 1;\n",
    "    }\n",
    "    return 0;\n",
    "}\n",
    "\"\"\"\n",
    "\n",
    "def compile_rdseed_lib():\n",
    "    with tempfile.NamedTemporaryFile(suffix=\".c\", delete=False) as f:\n",
    "        f.write(c_code.encode())\n",
    "        c_path = f.name\n",
    "\n",
    "    so_path = c_path.replace(\".c\", \".so\")\n",
    "    compile_cmd = [\n",
    "        \"gcc\", \"-shared\", \"-fPIC\", \"-O2\", \"-mrdseed\", \"-o\", so_path, c_path\n",
    "    ]\n",
    "\n",
    "    subprocess.check_call(compile_cmd)\n",
    "    os.remove(c_path)\n",
    "    return ctypes.CDLL(so_path)\n",
    "\n",
    "# Cargar lib y configurar argumentos\n",
    "_rdseed = compile_rdseed_lib()\n",
    "_rdseed.rdseed32.argtypes = [ctypes.POINTER(ctypes.c_uint)]\n",
    "_rdseed.rdseed32.restype = ctypes.c_int\n",
    "\n",
    "_rdseed.rdseed64.argtypes = [ctypes.POINTER(ctypes.c_ulonglong)]\n",
    "_rdseed.rdseed64.restype = ctypes.c_int\n",
    "\n",
    "# Funciones públicas\n",
    "def seed32():\n",
    "    \"\"\"\n",
    "    Intenta generar un entero aleatorio no negativo de 32 bits utilizando la instrucción RDSEED.\n",
    "    \"\"\"\n",
    "    out = ctypes.c_uint()\n",
    "    if _rdseed.rdseed32(ctypes.byref(out)) == 0:\n",
    "        raise RuntimeError(\"RDSEED32 falló después de varios intentos.\")\n",
    "    return out.value\n",
    "\n",
    "def seed64():\n",
    "    \"\"\"\n",
    "    Intenta generar un entero aleatorio no negativo de 64 bits utilizando la instrucción RDSEED.\n",
    "    \"\"\"\n",
    "    out = ctypes.c_ulonglong()\n",
    "    if _rdseed.rdseed64(ctypes.byref(out)) == 0:\n",
    "        raise RuntimeError(\"RDSEED64 falló después de varios intentos.\")\n",
    "    return out.value\n"
   ]
  },
  {
   "cell_type": "code",
   "execution_count": 126,
   "id": "928b2471",
   "metadata": {},
   "outputs": [],
   "source": [
    "def rotl32(x, k):\n",
    "    \"\"\"\n",
    "    Función auxiliar que calcula la rotación de k bits del número x y devuelve como resultado\n",
    "    un número de 32 bits.\n",
    "    \"\"\"\n",
    "    return ((x << k) | (x >> (32 - k))) & MAX_UINT32 # Máscara para que sea un numero de 32bits"
   ]
  },
  {
   "cell_type": "markdown",
   "id": "03371df0",
   "metadata": {},
   "source": [
    "## Parámetros de los Generadores"
   ]
  },
  {
   "cell_type": "code",
   "execution_count": 127,
   "id": "68159542",
   "metadata": {},
   "outputs": [],
   "source": [
    "# Generador Congruencial Lineal\n",
    "CGL_STATE = seed32()\n",
    "a = 16807\n",
    "M = 2**31 - 1\n",
    "\n",
    "# Xorshift (32,64,128)\n",
    "XOR32_STATE = seed32()\n",
    "a_xorshift32 = 13\n",
    "b_xorshift32 = 17\n",
    "c_xorshift32 = 15\n",
    "XOR64_STATE = seed64()\n",
    "a_xorshift64 = 1\n",
    "b_xorshift64 = 13\n",
    "c_xorshift64 = 45\n",
    "XOR128_STATE = [seed64(), seed64()]\n",
    "a_xorshift128 = 23\n",
    "b_xorshift128 = 18\n",
    "c_xorshift128 = 15\n",
    "\n",
    "# Xoshiro128\n",
    "XOSHIRO_STATE = [seed32(), seed32(), seed32(), seed32()]\n",
    "a_xoshiro128 = 9\n",
    "b_xoshiro128 = 11\n",
    "r_xoshiro128 = 17"
   ]
  },
  {
   "cell_type": "markdown",
   "id": "073af80a",
   "metadata": {},
   "source": [
    "### Chequeos"
   ]
  },
  {
   "cell_type": "code",
   "execution_count": 128,
   "id": "00e9b53a",
   "metadata": {},
   "outputs": [
    {
     "name": "stdout",
     "output_type": "stream",
     "text": [
      "a = 16807 es raíz primitiva de M = 2147483647 y por lo tanto, el periódo K = M-1 del LCG es máximo\n"
     ]
    }
   ],
   "source": [
    "from sympy import factorint\n",
    "\n",
    "factores_primos = factorint(M-1)\n",
    "es_raiz_primitiva = True\n",
    "\n",
    "for p in factores_primos:\n",
    "    if pow(a, (M-1) // p, M) == 1:\n",
    "        print(f\"{a} NO es raíz primitiva de {M}\")\n",
    "        es_raiz_primitiva = False\n",
    "        break\n",
    "\n",
    "if es_raiz_primitiva:\n",
    "    print(f\"a = {a} es raíz primitiva de M = {M} y por lo tanto, el periódo K = M-1 del LCG es máximo\")"
   ]
  },
  {
   "cell_type": "code",
   "execution_count": 142,
   "id": "e5a443f2",
   "metadata": {},
   "outputs": [
    {
     "name": "stdout",
     "output_type": "stream",
     "text": [
      "================== Semillas de los generadores ==================\n",
      "CGL_STATE       = 1838233160\n",
      "XOR32_STATE     = 3356098768\n",
      "XOR64_STATE     = 7702215153871139545\n",
      "XOR128_STATE    = 4179355489805615708, 9488066876215680752\n",
      "XOSHIRO_STATE   = 2662880354, 715269962, 3331806759, 637022443\n"
     ]
    }
   ],
   "source": [
    "print(\"================== Semillas de los generadores ==================\")\n",
    "\n",
    "# CGL\n",
    "print(f\"CGL_STATE       = {CGL_STATE}\")\n",
    "\n",
    "# Xorshift32\n",
    "print(f\"XOR32_STATE     = {XOR32_STATE}\")\n",
    "\n",
    "# Xorshift64\n",
    "print(f\"XOR64_STATE     = {XOR64_STATE}\")\n",
    "\n",
    "# Xorshift128\n",
    "print(f\"XOR128_STATE    = {XOR128_STATE[0]}, {XOR128_STATE[1]}\")\n",
    "\n",
    "# Xoshiro128\n",
    "print(f\"XOSHIRO_STATE   = {XOSHIRO_STATE[0]}, {XOSHIRO_STATE[1]}, {XOSHIRO_STATE[2]}, {XOSHIRO_STATE[3]}\")\n"
   ]
  },
  {
   "cell_type": "markdown",
   "id": "45862fb3",
   "metadata": {},
   "source": [
    "## Clases"
   ]
  },
  {
   "cell_type": "markdown",
   "id": "803a2f32",
   "metadata": {},
   "source": [
    "### Resultados"
   ]
  },
  {
   "cell_type": "code",
   "execution_count": 129,
   "id": "fb8e0fde",
   "metadata": {},
   "outputs": [],
   "source": [
    "class ResultadoSimulacion:\n",
    "    def __init__(self, generador, dimension, N, estimacion, tiempo, error_abs, varianza, ecm):\n",
    "        self.generador = generador\n",
    "        self.dimension = dimension\n",
    "        self.N = N\n",
    "        self.estimacion = estimacion\n",
    "        self.tiempo = tiempo\n",
    "        self.error_abs = error_abs\n",
    "        self.varianza = varianza\n",
    "        self.ecm = ecm\n",
    "\n",
    "    def __repr__(self):\n",
    "        return (f\"{self.generador:12} | d={self.dimension:<2} | N={self.N:<7} | \"\n",
    "                f\"Estimación={self.estimacion:.6f} | Error={self.error_abs:.2e} | \"\n",
    "                f\"Varianza={self.varianza:.2e} | ECM={self.ecm:.2e} | \"\n",
    "                f\"Tiempo={self.tiempo:.2f}s\")\n"
   ]
  },
  {
   "cell_type": "markdown",
   "id": "6f2249d2",
   "metadata": {},
   "source": [
    "# IMPLEMENTACIONES"
   ]
  },
  {
   "cell_type": "markdown",
   "id": "4e436417",
   "metadata": {},
   "source": [
    "## Generador Congruencial Lineal (LCG)"
   ]
  },
  {
   "cell_type": "code",
   "execution_count": 130,
   "id": "e22d51c2",
   "metadata": {},
   "outputs": [],
   "source": [
    "def LCG():\n",
    "    \"\"\"\n",
    "    Generador Múltiplicativo de números pseudoaleatorios normalizados en el intervalo [0,1) con parámetros:\n",
    "    • a = 16807\n",
    "    • M = 2^31 - 1 = 2147483647\n",
    "    \"\"\"\n",
    "    global CGL_STATE\n",
    "    CGL_STATE = (a*CGL_STATE) % M \n",
    "    return CGL_STATE / M"
   ]
  },
  {
   "cell_type": "markdown",
   "id": "57e075c2",
   "metadata": {},
   "source": [
    "## Xorshifts (32,64,128)"
   ]
  },
  {
   "cell_type": "code",
   "execution_count": 131,
   "id": "25977f2a",
   "metadata": {},
   "outputs": [],
   "source": [
    "def Xorshift32():\n",
    "    \"\"\"\n",
    "    Generador de números pseudoaleatorios normalizados en el intervalo [0,1) con estado de 32 bits con parámetros:\n",
    "    • a = 13\n",
    "    • b = 17\n",
    "    • c = 5\n",
    "    \"\"\"\n",
    "    global XOR32_STATE\n",
    "    XOR32_STATE ^= XOR32_STATE << a_xorshift32 \n",
    "    XOR32_STATE ^= XOR32_STATE >> b_xorshift32\n",
    "    XOR32_STATE ^= XOR32_STATE << c_xorshift32\n",
    "    XOR32_STATE &= MAX_UINT32 # Máscara para que sea un numero de 32bits\n",
    "    return XOR32_STATE / MAX_UINT32\n"
   ]
  },
  {
   "cell_type": "code",
   "execution_count": 132,
   "id": "b3d22617",
   "metadata": {},
   "outputs": [],
   "source": [
    "def Xorshift64():\n",
    "    \"\"\"\n",
    "    Generador de números pseudoaleatorios normalizados en el intervalo [0,1) con estado de 64 bits con parámetros:\n",
    "    • a = 1\n",
    "    • b = 13\n",
    "    • c = 45\n",
    "    \"\"\"\n",
    "    global XOR64_STATE\n",
    "    XOR64_STATE ^= XOR64_STATE >> c_xorshift64\n",
    "    XOR64_STATE ^= XOR64_STATE << b_xorshift64\n",
    "    XOR64_STATE ^= XOR64_STATE >> a_xorshift64\n",
    "    XOR64_STATE &= MAX_UINT64 # Máscara para que sea un numero de 64bits\n",
    "    return XOR64_STATE / MAX_UINT64"
   ]
  },
  {
   "cell_type": "code",
   "execution_count": 133,
   "id": "442ee5c4",
   "metadata": {},
   "outputs": [],
   "source": [
    "def Xorshift128():\n",
    "    \"\"\"\n",
    "    Generador de números pseudoaleatorios normalizados en el intervalo [0,1) con 2 estados de 64 bits con parámetros:\n",
    "    • a = 23\n",
    "    • b = 18\n",
    "    • c = 5\n",
    "    \"\"\"\n",
    "    global XOR128_STATE\n",
    "    s1 = XOR128_STATE[0]\n",
    "    s0 = XOR128_STATE[1]\n",
    "    result = (s0 + s1) & MAX_UINT64 # Máscara para que sea un numero de 64bits\n",
    "    XOR128_STATE[0] = s0\n",
    "    s1 ^= s1 << a_xorshift128\n",
    "    XOR128_STATE[1] = (s1 ^ s0 ^ (s1 >> b_xorshift128) ^ (s0 >> c_xorshift128)) & MAX_UINT64 # Máscara para que sea un numero de 64bits\n",
    "    return result / MAX_UINT64"
   ]
  },
  {
   "cell_type": "markdown",
   "id": "52aec61f",
   "metadata": {},
   "source": [
    "## Xoshiro128"
   ]
  },
  {
   "cell_type": "code",
   "execution_count": 134,
   "id": "d6b567a8",
   "metadata": {},
   "outputs": [],
   "source": [
    "def Xoshiro128():\n",
    "    \"\"\"\n",
    "    Generador de números pseudoaleatorios normalizados en el intervalo [0,1) de 32 bits con 4 estados de 32 bits con \n",
    "    parámetros:\n",
    "    • a = 9\n",
    "    • b = 11\n",
    "    • r = 7\n",
    "    \"\"\"\n",
    "    global XOSHIRO_STATE\n",
    "    result = (rotl32(XOSHIRO_STATE[0] + XOSHIRO_STATE[3], r_xoshiro128) + XOSHIRO_STATE[0]) & MAX_UINT32 # Máscara para que sea un numero de 32bits\n",
    "    t = (XOSHIRO_STATE[1] << a_xoshiro128) & MAX_UINT32 # Máscara para que sea un numero de 32bits\n",
    "    XOSHIRO_STATE[2] ^= XOSHIRO_STATE[0]\n",
    "    XOSHIRO_STATE[3] ^= XOSHIRO_STATE[1]\n",
    "    XOSHIRO_STATE[1] ^= XOSHIRO_STATE[2]\n",
    "    XOSHIRO_STATE[0] ^= XOSHIRO_STATE[3] \n",
    "    XOSHIRO_STATE[2] ^= t\n",
    "    XOSHIRO_STATE[3] =  rotl32(XOSHIRO_STATE[3], b_xoshiro128)\n",
    "    return result / MAX_UINT32"
   ]
  },
  {
   "cell_type": "markdown",
   "id": "a4637d48",
   "metadata": {},
   "source": [
    "# SIMULACIONES"
   ]
  },
  {
   "cell_type": "code",
   "execution_count": 135,
   "id": "68b8e102",
   "metadata": {},
   "outputs": [],
   "source": [
    "import numpy as np\n",
    "from math import exp\n",
    "from time import perf_counter as pc\n",
    "\n",
    "generadores = {\n",
    "    \"LCG\": LCG,\n",
    "    \"Xorshift32\": Xorshift32,\n",
    "    \"Xorshift64\": Xorshift64,\n",
    "    \"Xorshift128\": Xorshift128,\n",
    "    \"Xoshiro128\": Xoshiro128\n",
    "}\n",
    "\n",
    "def simular(rng, d ,N):\n",
    "    \"\"\"\n",
    "    Dado un generador de números aleatorios (rng) que devuelve valores en [0,1), estima mediante el método de Monte Carlo\n",
    "    la integral sobre el hipercubo [0,1]^d usando N muestras. \n",
    "    Devuelve:\n",
    "    • estimación de la integral,\n",
    "    • tiempo de ejecución,\n",
    "    • varianza de las estimaciones,\n",
    "    • error cuadrático medio (ECM).\n",
    "    \"\"\"\n",
    "    muestras = np.empty(N, dtype=np.float64)\n",
    "\n",
    "    inicio = pc()\n",
    "    for i in range(N):\n",
    "        prod = 1\n",
    "        for _ in range(d):\n",
    "            X = rng()\n",
    "            prod *= exp(-1 * X**2)\n",
    "        muestras[i] = prod\n",
    "    final = pc()\n",
    "\n",
    "    estimacion = np.mean(muestras)\n",
    "    varianza = np.var(muestras)\n",
    "    ecm = np.mean((muestras - valores_reales[d])**2)\n",
    "\n",
    "    return estimacion, final-inicio, varianza, ecm"
   ]
  },
  {
   "cell_type": "code",
   "execution_count": 136,
   "id": "253236c4",
   "metadata": {},
   "outputs": [
    {
     "name": "stdout",
     "output_type": "stream",
     "text": [
      "LCG          | d=2  | N=10000   | Estimación=0.559299 | Error=1.55e-03 | Varianza=4.67e-02 | ECM=4.67e-02 | Tiempo=0.02s\n",
      "LCG          | d=2  | N=100000  | Estimación=0.557746 | Error=6.57e-07 | Varianza=4.66e-02 | ECM=4.66e-02 | Tiempo=0.08s\n",
      "LCG          | d=2  | N=1000000 | Estimación=0.557751 | Error=4.80e-06 | Varianza=4.67e-02 | ECM=4.67e-02 | Tiempo=0.58s\n",
      "LCG          | d=5  | N=10000   | Estimación=0.233726 | Error=1.40e-03 | Varianza=2.30e-02 | ECM=2.30e-02 | Tiempo=0.01s\n",
      "LCG          | d=5  | N=100000  | Estimación=0.233243 | Error=9.20e-04 | Varianza=2.29e-02 | ECM=2.29e-02 | Tiempo=0.12s\n",
      "LCG          | d=5  | N=1000000 | Estimación=0.232355 | Error=3.20e-05 | Varianza=2.26e-02 | ECM=2.26e-02 | Tiempo=1.34s\n",
      "LCG          | d=10 | N=10000   | Estimación=0.053260 | Error=7.14e-04 | Varianza=2.83e-03 | ECM=2.83e-03 | Tiempo=0.02s\n",
      "LCG          | d=10 | N=100000  | Estimación=0.054283 | Error=3.09e-04 | Varianza=3.02e-03 | ECM=3.02e-03 | Tiempo=0.23s\n",
      "LCG          | d=10 | N=1000000 | Estimación=0.053976 | Error=2.02e-06 | Varianza=2.95e-03 | ECM=2.95e-03 | Tiempo=2.48s\n",
      "Xorshift32   | d=2  | N=10000   | Estimación=0.555999 | Error=1.75e-03 | Varianza=4.67e-02 | ECM=4.67e-02 | Tiempo=0.01s\n",
      "Xorshift32   | d=2  | N=100000  | Estimación=0.557207 | Error=5.39e-04 | Varianza=4.66e-02 | ECM=4.66e-02 | Tiempo=0.08s\n",
      "Xorshift32   | d=2  | N=1000000 | Estimación=0.558005 | Error=2.58e-04 | Varianza=4.67e-02 | ECM=4.67e-02 | Tiempo=0.80s\n",
      "Xorshift32   | d=5  | N=10000   | Estimación=0.230903 | Error=1.42e-03 | Varianza=2.15e-02 | ECM=2.15e-02 | Tiempo=0.02s\n",
      "Xorshift32   | d=5  | N=100000  | Estimación=0.232964 | Error=6.41e-04 | Varianza=2.26e-02 | ECM=2.26e-02 | Tiempo=0.17s\n",
      "Xorshift32   | d=5  | N=1000000 | Estimación=0.232046 | Error=2.77e-04 | Varianza=2.25e-02 | ECM=2.25e-02 | Tiempo=1.82s\n",
      "Xorshift32   | d=10 | N=10000   | Estimación=0.053528 | Error=4.46e-04 | Varianza=2.81e-03 | ECM=2.81e-03 | Tiempo=0.03s\n",
      "Xorshift32   | d=10 | N=100000  | Estimación=0.054009 | Error=3.54e-05 | Varianza=2.94e-03 | ECM=2.94e-03 | Tiempo=0.37s\n",
      "Xorshift32   | d=10 | N=1000000 | Estimación=0.054024 | Error=5.02e-05 | Varianza=2.95e-03 | ECM=2.95e-03 | Tiempo=3.38s\n",
      "Xorshift64   | d=2  | N=10000   | Estimación=0.558489 | Error=7.43e-04 | Varianza=4.68e-02 | ECM=4.68e-02 | Tiempo=0.01s\n",
      "Xorshift64   | d=2  | N=100000  | Estimación=0.558013 | Error=2.67e-04 | Varianza=4.69e-02 | ECM=4.69e-02 | Tiempo=0.11s\n",
      "Xorshift64   | d=2  | N=1000000 | Estimación=0.557754 | Error=7.92e-06 | Varianza=4.67e-02 | ECM=4.67e-02 | Tiempo=1.12s\n",
      "Xorshift64   | d=5  | N=10000   | Estimación=0.231380 | Error=9.43e-04 | Varianza=2.25e-02 | ECM=2.25e-02 | Tiempo=0.03s\n",
      "Xorshift64   | d=5  | N=100000  | Estimación=0.232627 | Error=3.04e-04 | Varianza=2.28e-02 | ECM=2.28e-02 | Tiempo=0.26s\n",
      "Xorshift64   | d=5  | N=1000000 | Estimación=0.232186 | Error=1.37e-04 | Varianza=2.26e-02 | ECM=2.26e-02 | Tiempo=2.53s\n",
      "Xorshift64   | d=10 | N=10000   | Estimación=0.054044 | Error=7.05e-05 | Varianza=3.15e-03 | ECM=3.15e-03 | Tiempo=0.05s\n",
      "Xorshift64   | d=10 | N=100000  | Estimación=0.053676 | Error=2.98e-04 | Varianza=2.88e-03 | ECM=2.88e-03 | Tiempo=0.46s\n",
      "Xorshift64   | d=10 | N=1000000 | Estimación=0.053980 | Error=5.76e-06 | Varianza=2.94e-03 | ECM=2.94e-03 | Tiempo=4.71s\n",
      "Xorshift128  | d=2  | N=10000   | Estimación=0.555122 | Error=2.62e-03 | Varianza=4.61e-02 | ECM=4.61e-02 | Tiempo=0.01s\n",
      "Xorshift128  | d=2  | N=100000  | Estimación=0.557283 | Error=4.64e-04 | Varianza=4.66e-02 | ECM=4.66e-02 | Tiempo=0.12s\n",
      "Xorshift128  | d=2  | N=1000000 | Estimación=0.557883 | Error=1.37e-04 | Varianza=4.68e-02 | ECM=4.68e-02 | Tiempo=1.13s\n",
      "Xorshift128  | d=5  | N=10000   | Estimación=0.230438 | Error=1.89e-03 | Varianza=2.17e-02 | ECM=2.17e-02 | Tiempo=0.03s\n",
      "Xorshift128  | d=5  | N=100000  | Estimación=0.231959 | Error=3.64e-04 | Varianza=2.24e-02 | ECM=2.24e-02 | Tiempo=0.26s\n",
      "Xorshift128  | d=5  | N=1000000 | Estimación=0.232269 | Error=5.36e-05 | Varianza=2.26e-02 | ECM=2.26e-02 | Tiempo=2.60s\n",
      "Xorshift128  | d=10 | N=10000   | Estimación=0.054741 | Error=7.67e-04 | Varianza=2.91e-03 | ECM=2.91e-03 | Tiempo=0.05s\n",
      "Xorshift128  | d=10 | N=100000  | Estimación=0.053767 | Error=2.07e-04 | Varianza=2.90e-03 | ECM=2.90e-03 | Tiempo=0.54s\n",
      "Xorshift128  | d=10 | N=1000000 | Estimación=0.054031 | Error=5.67e-05 | Varianza=2.94e-03 | ECM=2.94e-03 | Tiempo=4.94s\n",
      "Xoshiro128   | d=2  | N=10000   | Estimación=0.556567 | Error=1.18e-03 | Varianza=4.65e-02 | ECM=4.65e-02 | Tiempo=0.02s\n",
      "Xoshiro128   | d=2  | N=100000  | Estimación=0.557595 | Error=1.52e-04 | Varianza=4.70e-02 | ECM=4.70e-02 | Tiempo=0.16s\n",
      "Xoshiro128   | d=2  | N=1000000 | Estimación=0.557776 | Error=2.97e-05 | Varianza=4.68e-02 | ECM=4.68e-02 | Tiempo=1.75s\n",
      "Xoshiro128   | d=5  | N=10000   | Estimación=0.233156 | Error=8.33e-04 | Varianza=2.27e-02 | ECM=2.27e-02 | Tiempo=0.04s\n",
      "Xoshiro128   | d=5  | N=100000  | Estimación=0.232230 | Error=9.23e-05 | Varianza=2.25e-02 | ECM=2.25e-02 | Tiempo=0.44s\n",
      "Xoshiro128   | d=5  | N=1000000 | Estimación=0.232112 | Error=2.11e-04 | Varianza=2.26e-02 | ECM=2.26e-02 | Tiempo=4.40s\n",
      "Xoshiro128   | d=10 | N=10000   | Estimación=0.053824 | Error=1.49e-04 | Varianza=2.98e-03 | ECM=2.98e-03 | Tiempo=0.08s\n",
      "Xoshiro128   | d=10 | N=100000  | Estimación=0.054048 | Error=7.45e-05 | Varianza=2.97e-03 | ECM=2.97e-03 | Tiempo=0.77s\n",
      "Xoshiro128   | d=10 | N=1000000 | Estimación=0.054007 | Error=3.30e-05 | Varianza=2.95e-03 | ECM=2.95e-03 | Tiempo=8.22s\n"
     ]
    }
   ],
   "source": [
    "resultados = []\n",
    "\n",
    "for nombre, rng in generadores.items():\n",
    "    for d in dimensiones:\n",
    "        valor_real = valores_reales[d]\n",
    "        for N in tamaños:\n",
    "            estimacion, tiempo, varianza, ecm = simular(rng, d, N)\n",
    "            error_abs = abs(estimacion - valor_real)\n",
    "            resultado = ResultadoSimulacion(nombre, d, N, estimacion, tiempo, error_abs, varianza, ecm)\n",
    "            resultados.append(resultado)\n",
    "            print(resultado)\n",
    "\n",
    "\n"
   ]
  },
  {
   "cell_type": "markdown",
   "id": "f0f51d11",
   "metadata": {},
   "source": [
    "# Gráficas"
   ]
  },
  {
   "cell_type": "markdown",
   "id": "1cc6020c",
   "metadata": {},
   "source": [
    "## Distribución de lo Generadores"
   ]
  },
  {
   "cell_type": "code",
   "execution_count": 137,
   "id": "e51abba5",
   "metadata": {},
   "outputs": [
    {
     "data": {
      "image/png": "[encoded data removed]",
      "text/plain": [
       "<Figure size 1500x800 with 6 Axes>"
      ]
     },
     "metadata": {},
     "output_type": "display_data"
    }
   ],
   "source": [
    "import matplotlib.pyplot as plt\n",
    "from random import random\n",
    "\n",
    "# Generar muestras\n",
    "N = 1_000_000\n",
    "samples_random = [random() for _ in range(N)]\n",
    "samples_lcg = [LCG() for _ in range(N)]\n",
    "samples_xorshift32 = [Xorshift32() for _ in range(N)]\n",
    "samples_xorshift64 = [Xorshift64() for _ in range(N)]\n",
    "samples_xorshift128 = [Xorshift128() for _ in range(N)]\n",
    "samples_xoshiro128 = [Xoshiro128() for _ in range(N)]\n",
    "\n",
    "# Crear figura con 2 filas y 3 columnas\n",
    "fig, axes = plt.subplots(2, 3, figsize=(15, 8), sharey=True)\n",
    "axes = axes.flatten()\n",
    "\n",
    "# Histograma random()\n",
    "axes[0].hist(samples_random, bins=50, color= '#F76C5E', alpha=0.7)\n",
    "axes[0].set_title('random()')\n",
    "axes[0].set_xlabel('Valor')\n",
    "axes[0].set_ylabel('Frecuencia')\n",
    "\n",
    "# Histograma LCG\n",
    "axes[1].hist(samples_lcg, bins=50, color='#F68E5F', alpha=0.7)\n",
    "axes[1].set_title('LCG (a=16807, M=2^31-1)')\n",
    "axes[1].set_xlabel('Valor')\n",
    "\n",
    "# Histograma Xorshift32\n",
    "axes[2].hist(samples_xorshift32, bins=50, color='#F5DD90', alpha=0.7)\n",
    "axes[2].set_title('Xorshift32')\n",
    "axes[2].set_xlabel('Valor')\n",
    "\n",
    "# Histograma Xorshift64\n",
    "axes[3].hist(samples_xorshift64, bins=50, color='#949083', alpha=0.7)\n",
    "axes[3].set_title('Xorshift64')\n",
    "axes[3].set_xlabel('Valor')\n",
    "axes[3].set_ylabel('Frecuencia')\n",
    "\n",
    "# Histograma Xorshift128\n",
    "axes[4].hist(samples_xorshift128, bins=50, color='#324376', alpha=0.7)\n",
    "axes[4].set_title('Xorshift128')\n",
    "axes[4].set_xlabel('Valor')\n",
    "\n",
    "# Histograma Xoshiro128++\n",
    "axes[5].hist(samples_xoshiro128, bins=50, color='#586BA4', alpha=0.7)\n",
    "axes[5].set_title('Xoshiro128++')\n",
    "axes[5].set_xlabel('Valor')\n",
    "\n",
    "# Ajustar diseño\n",
    "plt.suptitle(f'Comparación de distribuciones (N={N})', fontsize=16)\n",
    "plt.tight_layout(rect=[0, 0, 1, 0.96])\n",
    "plt.show()"
   ]
  }
 ],
 "metadata": {
  "kernelspec": {
   "display_name": "Python 3",
   "language": "python",
   "name": "python3"
  },
  "language_info": {
   "codemirror_mode": {
    "name": "ipython",
    "version": 3
   },
   "file_extension": ".py",
   "mimetype": "text/x-python",
   "name": "python",
   "nbconvert_exporter": "python",
   "pygments_lexer": "ipython3",
   "version": "3.12.3"
  }
 },
 "nbformat": 4,
 "nbformat_minor": 5
}
