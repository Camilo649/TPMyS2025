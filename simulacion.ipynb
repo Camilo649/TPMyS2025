{
 "cells": [
  {
   "cell_type": "markdown",
   "id": "45a3d8c2",
   "metadata": {},
   "source": [
    "# Inicialización del Entorno"
   ]
  },
  {
   "cell_type": "markdown",
   "id": "869728ae",
   "metadata": {},
   "source": [
    "## Parámetros Globales"
   ]
  },
  {
   "cell_type": "code",
   "execution_count": null,
   "id": "c24096bc",
   "metadata": {},
   "outputs": [],
   "source": [
    "from math import sqrt, pi, erf\n",
    "\n",
    "MAX_UINT32 = 0xFFFFFFFF\n",
    "MAX_UINT64 = 0xFFFFFFFFFFFFFFFF\n",
    "sqrtPi = sqrt(pi)\n",
    "erf1 = erf(1)\n",
    "dimensiones = [2, 5, 10]\n",
    "tamaños = [10**4, 10**5, 10**6]\n",
    "valores_reales = {d: ((sqrtPi * erf1) / 2) ** d for d in dimensiones}"
   ]
  },
  {
   "cell_type": "markdown",
   "id": "1c01431c",
   "metadata": {},
   "source": [
    "## Funciones Auxiliares"
   ]
  },
  {
   "cell_type": "code",
   "execution_count": null,
   "id": "8fd80add",
   "metadata": {},
   "outputs": [],
   "source": [
    "import ctypes\n",
    "import tempfile\n",
    "import subprocess\n",
    "import os\n",
    "\n",
    "c_code = r\"\"\"\n",
    "#include <immintrin.h>\n",
    "\n",
    "int rdseed32(unsigned int *out) {\n",
    "    int ok;\n",
    "    for (int i = 0; i < 10; ++i) {\n",
    "        ok = _rdseed32_step(out);\n",
    "        if (ok) return 1;\n",
    "    }\n",
    "    return 0;\n",
    "}\n",
    "\n",
    "int rdseed64(unsigned long long *out) {\n",
    "    int ok;\n",
    "    for (int i = 0; i < 10; ++i) {\n",
    "        ok = _rdseed64_step(out);\n",
    "        if (ok) return 1;\n",
    "    }\n",
    "    return 0;\n",
    "}\n",
    "\"\"\"\n",
    "\n",
    "def compile_rdseed_lib():\n",
    "    with tempfile.NamedTemporaryFile(suffix=\".c\", delete=False) as f:\n",
    "        f.write(c_code.encode())\n",
    "        c_path = f.name\n",
    "\n",
    "    so_path = c_path.replace(\".c\", \".so\")\n",
    "    compile_cmd = [\n",
    "        \"gcc\", \"-shared\", \"-fPIC\", \"-O2\", \"-mrdseed\", \"-o\", so_path, c_path\n",
    "    ]\n",
    "\n",
    "    subprocess.check_call(compile_cmd)\n",
    "    os.remove(c_path)\n",
    "    return ctypes.CDLL(so_path)\n",
    "\n",
    "# Cargar lib y configurar argumentos\n",
    "_rdseed = compile_rdseed_lib()\n",
    "_rdseed.rdseed32.argtypes = [ctypes.POINTER(ctypes.c_uint)]\n",
    "_rdseed.rdseed32.restype = ctypes.c_int\n",
    "\n",
    "_rdseed.rdseed64.argtypes = [ctypes.POINTER(ctypes.c_ulonglong)]\n",
    "_rdseed.rdseed64.restype = ctypes.c_int\n",
    "\n",
    "# Funciones públicas\n",
    "def seed32():\n",
    "    \"\"\"\n",
    "    Intenta generar un entero aleatorio no negativo de 32 bits utilizando la instrucción RDSEED.\n",
    "    \"\"\"\n",
    "    out = ctypes.c_uint()\n",
    "    if _rdseed.rdseed32(ctypes.byref(out)) == 0:\n",
    "        raise RuntimeError(\"RDSEED32 falló después de varios intentos.\")\n",
    "    return out.value\n",
    "\n",
    "def seed64():\n",
    "    \"\"\"\n",
    "    Intenta generar un entero aleatorio no negativo de 64 bits utilizando la instrucción RDSEED.\n",
    "    \"\"\"\n",
    "    out = ctypes.c_ulonglong()\n",
    "    if _rdseed.rdseed64(ctypes.byref(out)) == 0:\n",
    "        raise RuntimeError(\"RDSEED64 falló después de varios intentos.\")\n",
    "    return out.value\n"
   ]
  },
  {
   "cell_type": "code",
   "execution_count": null,
   "id": "928b2471",
   "metadata": {},
   "outputs": [],
   "source": [
    "def rotl32(x, k):\n",
    "    \"\"\"\n",
    "    Función auxiliar que calcula la rotación de k bits del número x y devuelve como resultado\n",
    "    un número de 32 bits.\n",
    "    \"\"\"\n",
    "    return ((x << k) | (x >> (32 - k))) & MAX_UINT32 # Máscara para que sea un numero de 32bits"
   ]
  },
  {
   "cell_type": "markdown",
   "id": "03371df0",
   "metadata": {},
   "source": [
    "## Parámetros de los Generadores"
   ]
  },
  {
   "cell_type": "code",
   "execution_count": null,
   "id": "68159542",
   "metadata": {},
   "outputs": [],
   "source": [
    "# Generador Congruencial Lineal\n",
    "CGL_STATE = seed32()\n",
    "a = 16807\n",
    "M = 2**31 - 1\n",
    "\n",
    "# Xorshift (32,64,128)\n",
    "XOR32_STATE = seed32()\n",
    "a_xorshift32 = 13\n",
    "b_xorshift32 = 17\n",
    "c_xorshift32 = 15\n",
    "XOR64_STATE = seed64()\n",
    "a_xorshift64 = 1\n",
    "b_xorshift64 = 13\n",
    "c_xorshift64 = 45\n",
    "XOR128_STATE = [seed64(), seed64()]\n",
    "a_xorshift128 = 23\n",
    "b_xorshift128 = 18\n",
    "c_xorshift128 = 15\n",
    "\n",
    "# Xoshiro128\n",
    "XOSHIRO_STATE = [seed32(), seed32(), seed32(), seed32()]\n",
    "a_xoshiro128 = 9\n",
    "b_xoshiro128 = 11\n",
    "r_xoshiro128 = 17"
   ]
  },
  {
   "cell_type": "markdown",
   "id": "073af80a",
   "metadata": {},
   "source": [
    "### Chequeos"
   ]
  },
  {
   "cell_type": "code",
   "execution_count": null,
   "id": "00e9b53a",
   "metadata": {},
   "outputs": [],
   "source": [
    "from sympy import factorint\n",
    "\n",
    "factores_primos = factorint(M-1)\n",
    "es_raiz_primitiva = True\n",
    "\n",
    "for p in factores_primos:\n",
    "    if pow(a, (M-1) // p, M) == 1:\n",
    "        print(f\"{a} NO es raíz primitiva de {M}\")\n",
    "        es_raiz_primitiva = False\n",
    "        break\n",
    "\n",
    "if es_raiz_primitiva:\n",
    "    print(f\"a = {a} es raíz primitiva de M = {M} y por lo tanto, el periódo K = M-1 del LCG es máximo\")"
   ]
  },
  {
   "cell_type": "code",
   "execution_count": null,
   "id": "e5a443f2",
   "metadata": {},
   "outputs": [],
   "source": [
    "print(\"================== Semillas de los generadores ==================\")\n",
    "\n",
    "# CGL\n",
    "print(f\"CGL_STATE       = {CGL_STATE}\")\n",
    "\n",
    "# Xorshift32\n",
    "print(f\"XOR32_STATE     = {XOR32_STATE}\")\n",
    "\n",
    "# Xorshift64\n",
    "print(f\"XOR64_STATE     = {XOR64_STATE}\")\n",
    "\n",
    "# Xorshift128\n",
    "print(f\"XOR128_STATE    = {XOR128_STATE[0]}, {XOR128_STATE[1]}\")\n",
    "\n",
    "# Xoshiro128\n",
    "print(f\"XOSHIRO_STATE   = {XOSHIRO_STATE[0]}, {XOSHIRO_STATE[1]}, {XOSHIRO_STATE[2]}, {XOSHIRO_STATE[3]}\")\n"
   ]
  },
  {
   "cell_type": "markdown",
   "id": "45862fb3",
   "metadata": {},
   "source": [
    "## Clases"
   ]
  },
  {
   "cell_type": "markdown",
   "id": "4d5bfe53",
   "metadata": {},
   "source": [
    "### Generadores"
   ]
  },
  {
   "cell_type": "code",
   "execution_count": null,
   "id": "0e81dca2",
   "metadata": {},
   "outputs": [],
   "source": [
    "class Generador:\n",
    "    def __init__(self, nombre, funcion, color, Max_value, estados, parametros):\n",
    "        self.nombre = nombre\n",
    "        self.funcion = funcion  # Generador en [0, 1)\n",
    "        self.color = color\n",
    "        self.Max_value = Max_value\n",
    "        self.estados = estados\n",
    "        self.parametros = parametros  # Diccionario de parámetros usados\n",
    "\n",
    "    def generar(self):\n",
    "        \"\"\"\n",
    "        Devuelve un número pseudoaleatorio en el intervalo {1,...,K-1}.\n",
    "        \"\"\"\n",
    "        return self.funcion()\n",
    "    \n",
    "    def generar_normalizado(self):\n",
    "        \"\"\"\n",
    "        Devuelve un número pseudoaleatorio normalizado en el intervalo (0,1).\n",
    "        \"\"\"\n",
    "        return self.generar() / self.Max_value\n",
    "\n",
    "    \n"
   ]
  },
  {
   "cell_type": "markdown",
   "id": "803a2f32",
   "metadata": {},
   "source": [
    "### Resultados"
   ]
  },
  {
   "cell_type": "code",
   "execution_count": null,
   "id": "fb8e0fde",
   "metadata": {},
   "outputs": [],
   "source": [
    "class ResultadoSimulacion:\n",
    "    def __init__(self, generador, dimension, N, estimacion, tiempo, error_abs, varianza, ecm):\n",
    "        self.generador = generador\n",
    "        self.dimension = dimension\n",
    "        self.N = N\n",
    "        self.estimacion = estimacion\n",
    "        self.tiempo = tiempo\n",
    "        self.error_abs = error_abs\n",
    "        self.varianza = varianza\n",
    "        self.ecm = ecm\n",
    "\n",
    "    def __repr__(self):\n",
    "        return (f\"{self.generador:12} | d={self.dimension:<2} | N={self.N:<7} | \"\n",
    "                f\"Estimación={self.estimacion:.6f} | Error={self.error_abs:.2e} | \"\n",
    "                f\"Varianza={self.varianza:.2e} | ECM={self.ecm:.2e} | \"\n",
    "                f\"Tiempo={self.tiempo:.2f}s\")\n"
   ]
  },
  {
   "cell_type": "markdown",
   "id": "6f2249d2",
   "metadata": {},
   "source": [
    "# IMPLEMENTACIONES"
   ]
  },
  {
   "cell_type": "markdown",
   "id": "4e436417",
   "metadata": {},
   "source": [
    "## Generador Congruencial Lineal (LCG)"
   ]
  },
  {
   "cell_type": "code",
   "execution_count": null,
   "id": "e22d51c2",
   "metadata": {},
   "outputs": [],
   "source": [
    "def LCG():\n",
    "    \"\"\"\n",
    "    Generador Múltiplicativo de números pseudoaleatorios en el conjunto {1,...,M-1} con parámetros:\n",
    "    • a = 16807\n",
    "    • M = 2^31 - 1 = 2147483647\n",
    "    \"\"\"\n",
    "    global CGL_STATE\n",
    "    CGL_STATE = (a*CGL_STATE) % M \n",
    "    return CGL_STATE"
   ]
  },
  {
   "cell_type": "markdown",
   "id": "57e075c2",
   "metadata": {},
   "source": [
    "## Xorshifts (32,64,128)"
   ]
  },
  {
   "cell_type": "code",
   "execution_count": null,
   "id": "25977f2a",
   "metadata": {},
   "outputs": [],
   "source": [
    "def Xorshift32():\n",
    "    \"\"\"\n",
    "    Generador de números pseudoaleatorios en el conjunto {1,...,2^32-1} con estado de 32 bits con parámetros:\n",
    "    • a = 13\n",
    "    • b = 17\n",
    "    • c = 5\n",
    "    \"\"\"\n",
    "    global XOR32_STATE\n",
    "    XOR32_STATE ^= XOR32_STATE << a_xorshift32 \n",
    "    XOR32_STATE ^= XOR32_STATE >> b_xorshift32\n",
    "    XOR32_STATE ^= XOR32_STATE << c_xorshift32\n",
    "    XOR32_STATE &= MAX_UINT32 # Máscara para que sea un numero de 32bits\n",
    "    return XOR32_STATE\n"
   ]
  },
  {
   "cell_type": "code",
   "execution_count": null,
   "id": "b3d22617",
   "metadata": {},
   "outputs": [],
   "source": [
    "def Xorshift64():\n",
    "    \"\"\"\n",
    "    Generador de números pseudoaleatorios en el conjunto {1,...,2^64-1} con estado de 64 bits con parámetros:\n",
    "    • a = 1\n",
    "    • b = 13\n",
    "    • c = 45\n",
    "    \"\"\"\n",
    "    global XOR64_STATE\n",
    "    XOR64_STATE ^= XOR64_STATE >> c_xorshift64\n",
    "    XOR64_STATE ^= XOR64_STATE << b_xorshift64\n",
    "    XOR64_STATE ^= XOR64_STATE >> a_xorshift64\n",
    "    XOR64_STATE &= MAX_UINT64 # Máscara para que sea un numero de 64bits\n",
    "    return XOR64_STATE"
   ]
  },
  {
   "cell_type": "code",
   "execution_count": null,
   "id": "442ee5c4",
   "metadata": {},
   "outputs": [],
   "source": [
    "def Xorshift128():\n",
    "    \"\"\"\n",
    "    Generador de números pseudoaleatorios en el conjunto {1,...,2^64-1} con 2 estados de 64 bits con parámetros:\n",
    "    • a = 23\n",
    "    • b = 18\n",
    "    • c = 5\n",
    "    \"\"\"\n",
    "    global XOR128_STATE\n",
    "    s1 = XOR128_STATE[0]\n",
    "    s0 = XOR128_STATE[1]\n",
    "    result = (s0 + s1) & MAX_UINT64 # Máscara para que sea un numero de 64bits\n",
    "    XOR128_STATE[0] = s0\n",
    "    s1 ^= s1 << a_xorshift128\n",
    "    XOR128_STATE[1] = (s1 ^ s0 ^ (s1 >> b_xorshift128) ^ (s0 >> c_xorshift128)) & MAX_UINT64 # Máscara para que sea un numero de 64bits\n",
    "    return result"
   ]
  },
  {
   "cell_type": "markdown",
   "id": "52aec61f",
   "metadata": {},
   "source": [
    "## Xoshiro128"
   ]
  },
  {
   "cell_type": "code",
   "execution_count": null,
   "id": "d6b567a8",
   "metadata": {},
   "outputs": [],
   "source": [
    "def Xoshiro128():\n",
    "    \"\"\"\n",
    "    Generador de números pseudoaleatorios pseudoaleatorios en el conjunto {1,...,2^32-1} de 32 bits con 4 estados de 32 bits con \n",
    "    parámetros:\n",
    "    • a = 9\n",
    "    • b = 11\n",
    "    • r = 7\n",
    "    \"\"\"\n",
    "    global XOSHIRO_STATE\n",
    "    result = (rotl32(XOSHIRO_STATE[0] + XOSHIRO_STATE[3], r_xoshiro128) + XOSHIRO_STATE[0]) & MAX_UINT32 # Máscara para que sea un numero de 32bits\n",
    "    t = (XOSHIRO_STATE[1] << a_xoshiro128) & MAX_UINT32 # Máscara para que sea un numero de 32bits\n",
    "    XOSHIRO_STATE[2] ^= XOSHIRO_STATE[0]\n",
    "    XOSHIRO_STATE[3] ^= XOSHIRO_STATE[1]\n",
    "    XOSHIRO_STATE[1] ^= XOSHIRO_STATE[2]\n",
    "    XOSHIRO_STATE[0] ^= XOSHIRO_STATE[3] \n",
    "    XOSHIRO_STATE[2] ^= t\n",
    "    XOSHIRO_STATE[3] =  rotl32(XOSHIRO_STATE[3], b_xoshiro128)\n",
    "    return result"
   ]
  },
  {
   "cell_type": "markdown",
   "id": "a4637d48",
   "metadata": {},
   "source": [
    "# SIMULACIONES"
   ]
  },
  {
   "cell_type": "code",
   "execution_count": null,
   "id": "68b8e102",
   "metadata": {},
   "outputs": [],
   "source": [
    "import numpy as np\n",
    "from math import exp\n",
    "from time import perf_counter as pc\n",
    "\n",
    "def simular(rng, d ,N):\n",
    "    \"\"\"\n",
    "    Dado un generador de números aleatorios (rng) que devuelve valores en [0,1), estima mediante el método de Monte Carlo\n",
    "    la integral sobre el hipercubo [0,1]^d usando N muestras. \n",
    "    Devuelve:\n",
    "    • estimación de la integral,\n",
    "    • tiempo de ejecución,\n",
    "    • varianza de las estimaciones,\n",
    "    • error cuadrático medio (ECM).\n",
    "    \"\"\"\n",
    "    muestras = np.empty(N, dtype=np.float64)\n",
    "\n",
    "    inicio = pc()\n",
    "    for i in range(N):\n",
    "        prod = 1\n",
    "        for _ in range(d):\n",
    "            X = rng()\n",
    "            prod *= exp(-1 * X**2)\n",
    "        muestras[i] = prod\n",
    "    final = pc()\n",
    "\n",
    "    estimacion = np.mean(muestras)\n",
    "    varianza = np.var(muestras)\n",
    "    ecm = np.mean((muestras - valores_reales[d])**2)\n",
    "\n",
    "    return estimacion, final-inicio, varianza, ecm"
   ]
  },
  {
   "cell_type": "code",
   "execution_count": null,
   "id": "3c58d5a6",
   "metadata": {},
   "outputs": [],
   "source": [
    "generadores = [\n",
    "    Generador(\"LCG\", LCG, \"#F68E5F\", M-1, 1, {\"a\": a, \"M\": M}),\n",
    "    Generador(\"Xorshift32\", Xorshift32, \"#F5DD90\", MAX_UINT32, 1, {\"a\": a_xorshift32, \"b\": b_xorshift32, \"c\": c_xorshift32}),\n",
    "    Generador(\"Xorshift64\", Xorshift64, \"#949083\", MAX_UINT64, 1, {\"a\": a_xorshift64, \"b\": b_xorshift64, \"c\": c_xorshift64}),\n",
    "    Generador(\"Xorshift128\", Xorshift128, \"#324376\", MAX_UINT64, 2, {\"a\": a_xorshift128, \"b\": b_xorshift128, \"c\": c_xorshift128}),\n",
    "    Generador(\"Xoshiro128\", Xoshiro128, \"#586BA4\", MAX_UINT32, 4, {\"a\": a_xoshiro128, \"b\": b_xoshiro128, \"r\": r_xoshiro128}),\n",
    "]"
   ]
  },
  {
   "cell_type": "code",
   "execution_count": null,
   "id": "253236c4",
   "metadata": {},
   "outputs": [],
   "source": [
    "resultados = []\n",
    "\n",
    "for gen in generadores:\n",
    "    for d in dimensiones:\n",
    "        valor_real = valores_reales[d]\n",
    "        for N in tamaños:\n",
    "            estimacion, tiempo, varianza, ecm = simular(gen.generar_normalizado, d, N)\n",
    "            error_abs = abs(estimacion - valor_real)\n",
    "            resultado = ResultadoSimulacion(gen.nombre, d, N, estimacion, tiempo, error_abs, varianza, ecm)\n",
    "            resultados.append(resultado)\n",
    "            print(resultado)\n",
    "\n"
   ]
  },
  {
   "cell_type": "markdown",
   "id": "f0f51d11",
   "metadata": {},
   "source": [
    "# Gráficas\n",
    "`TODO`: Funcion real vs estimacion (d = 2,3)"
   ]
  },
  {
   "cell_type": "markdown",
   "id": "1cc6020c",
   "metadata": {},
   "source": [
    "## Distribución de lo Generadores"
   ]
  },
  {
   "cell_type": "code",
   "execution_count": null,
   "id": "e51abba5",
   "metadata": {},
   "outputs": [],
   "source": [
    "import matplotlib.pyplot as plt\n",
    "from random import random\n",
    "\n",
    "def generar_muestras(generador, N):\n",
    "    \"\"\"\n",
    "    Genera N muestras con el generador dado.\n",
    "    \"\"\"\n",
    "    return [generador.generar_normalizado() for _ in range(N)]\n",
    "\n",
    "def graficar_histogramas(generadores, N=1_000_000):\n",
    "    \"\"\"\n",
    "    Genera histogramas para una lista de generadores.\n",
    "    \"\"\"\n",
    "    num_generadores = len(generadores) + 1\n",
    "    ncols = 3\n",
    "    nrows = (num_generadores + ncols - 1) // ncols\n",
    "\n",
    "    _, axes = plt.subplots(nrows, ncols, figsize=(5 * ncols, 4 * nrows), sharey=True)\n",
    "    axes = axes.flatten()\n",
    "\n",
    "    # Histograma de random()\n",
    "    muestras_random = [random() for _ in range(N)]\n",
    "    axes[0].hist(muestras_random, bins=50, color='#F76C5E', alpha=0.7)\n",
    "    axes[0].set_title('random()')\n",
    "    axes[0].set_xlabel('Valor')\n",
    "    axes[0].set_ylabel('Frecuencia')\n",
    "\n",
    "    # Demás Histogramas\n",
    "    for i, gen in enumerate(generadores, start=1):\n",
    "        muestras = generar_muestras(gen, N)\n",
    "        axes[i].hist(muestras, bins=50, color=gen.color, alpha=0.7)\n",
    "        axes[i].set_title(gen.nombre)\n",
    "        axes[i].set_xlabel('Valor')\n",
    "        if i % ncols == 0:\n",
    "            axes[i].set_ylabel('Frecuencia')\n",
    "\n",
    "    plt.suptitle(f'Comparación de distribuciones (N={N})', fontsize=16)\n",
    "    plt.tight_layout(rect=[0, 0, 1, 0.96])\n",
    "    plt.show()\n",
    "\n",
    "graficar_histogramas(generadores, N=1_000_000)\n"
   ]
  },
  {
   "cell_type": "markdown",
   "id": "02d17af1",
   "metadata": {},
   "source": [
    "## Generación de Puntos en el Cubo Unitario"
   ]
  },
  {
   "cell_type": "code",
   "execution_count": null,
   "id": "228bd534",
   "metadata": {},
   "outputs": [],
   "source": [
    "import ipywidgets as widgets\n",
    "from mpl_toolkits.mplot3d import Axes3D  # por compatibilidad\n",
    "from IPython.display import display, clear_output\n",
    "\n",
    "def sample_triplets(rng_func, n_triplets):\n",
    "    xs, ys, zs = [], [], []\n",
    "    for _ in range(n_triplets):\n",
    "        xs.append(rng_func())\n",
    "        ys.append(rng_func())\n",
    "        zs.append(rng_func())\n",
    "    return np.array(xs), np.array(ys), np.array(zs)\n",
    "\n",
    "def plot_3d(xs, ys, zs, elev=30, azim=45, title=\"\", color=\"b\", zoom=1.0):\n",
    "    fig = plt.figure(figsize=(6,5))\n",
    "    ax = fig.add_subplot(111, projection='3d')\n",
    "    ax.scatter(xs, ys, zs, s=5, c=color)\n",
    "    ax.view_init(elev=elev, azim=azim)\n",
    "    ax.set_title(title)\n",
    "    ax.set_xlabel('X')\n",
    "    ax.set_ylabel('Y')\n",
    "    ax.set_zlabel('Z')\n",
    "    centro = 0.5\n",
    "    rango = 0.5 / zoom  # cuanto mayor zoom, menor rango visible\n",
    "    ax.set_xlim(centro - rango, centro + rango)\n",
    "    ax.set_ylim(centro - rango, centro + rango)\n",
    "    ax.set_zlim(centro - rango, centro + rango)\n",
    "    \n",
    "    plt.show()\n",
    "\n",
    "# Widgets\n",
    "selector = widgets.Dropdown(\n",
    "    options=[gen.nombre for gen in generadores],\n",
    "    description='Generador:'\n",
    ")\n",
    "\n",
    "slider_elev = widgets.IntSlider(min=0, max=90, step=5, value=30, description='Elevación')\n",
    "slider_azim = widgets.IntSlider(min=0, max=360, step=5, value=45, description='Azimut')\n",
    "slider_puntos = widgets.IntSlider(min=1000, max=100000, step=1000, value=10_000, description='Puntos')\n",
    "slider_zoom = widgets.FloatSlider(min=0.1, max=2.0, step=0.1, value=1.0, description='Zoom')\n",
    "\n",
    "out = widgets.Output()\n",
    "\n",
    "def actualizar_plot(_=None):\n",
    "    with out:\n",
    "        clear_output(wait=True)\n",
    "        nombre = selector.value\n",
    "        gen = next(g for g in generadores if g.nombre == nombre)\n",
    "        n_puntos = slider_puntos.value\n",
    "        xs, ys, zs = sample_triplets(gen.generar_normalizado, n_puntos)\n",
    "        plot_3d(xs, ys, zs,\n",
    "                elev=slider_elev.value,\n",
    "                azim=slider_azim.value,\n",
    "                title=f'Distribución 3D - {gen.nombre}',\n",
    "                color=gen.color,\n",
    "                zoom=slider_zoom.value)\n",
    "\n",
    "\n",
    "grid_sliders = widgets.GridBox(\n",
    "    children=[slider_puntos, slider_zoom, slider_elev, slider_azim],\n",
    "    layout=widgets.Layout(\n",
    "        grid_template_columns=\"50% 50%\",\n",
    "        grid_template_rows=\"auto auto\",\n",
    "        grid_gap=\"10px 10px\"\n",
    "    )\n",
    ")\n",
    "\n",
    "selector.observe(actualizar_plot, names='value')\n",
    "slider_elev.observe(actualizar_plot, names='value')\n",
    "slider_azim.observe(actualizar_plot, names='value')\n",
    "slider_puntos.observe(actualizar_plot, names='value')\n",
    "slider_zoom.observe(actualizar_plot, names='value')\n",
    "\n",
    "display(widgets.VBox([\n",
    "    selector,\n",
    "    grid_sliders\n",
    "]), out)\n",
    "\n",
    "actualizar_plot()\n"
   ]
  }
 ],
 "metadata": {
  "kernelspec": {
   "display_name": "Python 3",
   "language": "python",
   "name": "python3"
  },
  "language_info": {
   "codemirror_mode": {
    "name": "ipython",
    "version": 3
   },
   "file_extension": ".py",
   "mimetype": "text/x-python",
   "name": "python",
   "nbconvert_exporter": "python",
   "pygments_lexer": "ipython3",
   "version": "3.12.3"
  }
 },
 "nbformat": 4,
 "nbformat_minor": 5
}
