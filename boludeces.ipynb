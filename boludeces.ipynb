{
 "cells": [
  {
   "cell_type": "markdown",
   "id": "45a3d8c2",
   "metadata": {},
   "source": [
    "# PARAMETROS"
   ]
  },
  {
   "cell_type": "code",
   "execution_count": 34,
   "id": "8fd80add",
   "metadata": {},
   "outputs": [],
   "source": [
    "import ctypes\n",
    "import tempfile\n",
    "import subprocess\n",
    "import os\n",
    "\n",
    "c_code = r\"\"\"\n",
    "#include <immintrin.h>\n",
    "\n",
    "int rdseed32(unsigned int *out) {\n",
    "    int ok;\n",
    "    for (int i = 0; i < 10; ++i) {\n",
    "        ok = _rdseed32_step(out);\n",
    "        if (ok) return 1;\n",
    "    }\n",
    "    return 0;\n",
    "}\n",
    "\n",
    "int rdseed64(unsigned long long *out) {\n",
    "    int ok;\n",
    "    for (int i = 0; i < 10; ++i) {\n",
    "        ok = _rdseed64_step(out);\n",
    "        if (ok) return 1;\n",
    "    }\n",
    "    return 0;\n",
    "}\n",
    "\"\"\"\n",
    "\n",
    "def compile_rdseed_lib():\n",
    "    with tempfile.NamedTemporaryFile(suffix=\".c\", delete=False) as f:\n",
    "        f.write(c_code.encode())\n",
    "        c_path = f.name\n",
    "\n",
    "    so_path = c_path.replace(\".c\", \".so\")\n",
    "    compile_cmd = [\n",
    "        \"gcc\", \"-shared\", \"-fPIC\", \"-O2\", \"-mrdseed\", \"-o\", so_path, c_path\n",
    "    ]\n",
    "\n",
    "    subprocess.check_call(compile_cmd)\n",
    "    os.remove(c_path)\n",
    "    return ctypes.CDLL(so_path)\n",
    "\n",
    "# Cargar lib y configurar argumentos\n",
    "_rdseed = compile_rdseed_lib()\n",
    "_rdseed.rdseed32.argtypes = [ctypes.POINTER(ctypes.c_uint)]\n",
    "_rdseed.rdseed32.restype = ctypes.c_int\n",
    "\n",
    "_rdseed.rdseed64.argtypes = [ctypes.POINTER(ctypes.c_ulonglong)]\n",
    "_rdseed.rdseed64.restype = ctypes.c_int\n",
    "\n",
    "# Funciones públicas\n",
    "def seed32():\n",
    "    out = ctypes.c_uint()\n",
    "    if _rdseed.rdseed32(ctypes.byref(out)) == 0:\n",
    "        raise RuntimeError(\"RDSEED32 falló después de varios intentos.\")\n",
    "    return out.value\n",
    "\n",
    "def seed64():\n",
    "    out = ctypes.c_ulonglong()\n",
    "    if _rdseed.rdseed64(ctypes.byref(out)) == 0:\n",
    "        raise RuntimeError(\"RDSEED64 falló después de varios intentos.\")\n",
    "    return out.value\n"
   ]
  },
  {
   "cell_type": "code",
   "execution_count": 190,
   "id": "68159542",
   "metadata": {},
   "outputs": [],
   "source": [
    "# Generador Congruencial Lineal\n",
    "a = 16807\n",
    "M = 2**31 - 1\n",
    "CGL_STATE = seed32()\n",
    "\n",
    "# Xorshift (32,64,128)\n",
    "XOR32_STATE = seed32()\n",
    "XOR64_STATE = seed64()\n",
    "XOR128_STATE = [seed64(), seed64()]\n",
    "\n",
    "# Xoshiro128\n",
    "XOSHIRO_STATE = [seed32(), seed32(), seed32(), seed32()]"
   ]
  },
  {
   "cell_type": "code",
   "execution_count": 36,
   "id": "43f93b57",
   "metadata": {},
   "outputs": [
    {
     "name": "stdout",
     "output_type": "stream",
     "text": [
      "{2: 1, 3: 2, 7: 1, 11: 1, 31: 1, 151: 1, 331: 1}\n"
     ]
    }
   ],
   "source": [
    "from sympy import factorint\n",
    "\n",
    "factores_primos = factorint(2**31 - 2)\n",
    "\n",
    "print(factores_primos)\n"
   ]
  },
  {
   "cell_type": "code",
   "execution_count": 37,
   "id": "00e9b53a",
   "metadata": {},
   "outputs": [
    {
     "name": "stdout",
     "output_type": "stream",
     "text": [
      "16807 es raíz primitiva de 2147483647\n"
     ]
    }
   ],
   "source": [
    "flag = True\n",
    "\n",
    "for p in factores_primos:\n",
    "    # print(f\"{pow(a, (M-1) // p, M)}\")\n",
    "    if pow(a, (M-1) // p, M) == 1:\n",
    "        print(f\"{a} NO es raíz primitiva de {M}\")\n",
    "        flag = False\n",
    "        break\n",
    "\n",
    "if flag:\n",
    "    print(f\"{a} es raíz primitiva de {M}\")"
   ]
  },
  {
   "cell_type": "markdown",
   "id": "6f2249d2",
   "metadata": {},
   "source": [
    "# IMPLEMENTACIONES"
   ]
  },
  {
   "cell_type": "markdown",
   "id": "4e436417",
   "metadata": {},
   "source": [
    "## Generador Congruencial Lineal (LCG)"
   ]
  },
  {
   "cell_type": "code",
   "execution_count": 40,
   "id": "e22d51c2",
   "metadata": {},
   "outputs": [],
   "source": [
    "def LCG():\n",
    "    \"\"\"\n",
    "    Generador Múltiplicativo de números pseudoaleatorios con parámetros:\n",
    "    • a = 16807\n",
    "    • M = 2^31 - 1 = 2147483647\n",
    "    \"\"\"\n",
    "    global CGL_STATE\n",
    "    CGL_STATE = (a*CGL_STATE) % M \n",
    "    return CGL_STATE"
   ]
  },
  {
   "cell_type": "markdown",
   "id": "57e075c2",
   "metadata": {},
   "source": [
    "## Xorshifts (32,64,128)"
   ]
  },
  {
   "cell_type": "code",
   "execution_count": null,
   "id": "25977f2a",
   "metadata": {},
   "outputs": [],
   "source": [
    "def Xorshift32():\n",
    "    \"\"\"\n",
    "    Generador de números pseudoaleatorios de 32 bits con estado de 32 bits con parámetros:\n",
    "    • a = 3\n",
    "    • b = 23\n",
    "    • c = 25\n",
    "    \"\"\"\n",
    "    global XOR32_STATE\n",
    "    XOR32_STATE ^= XOR32_STATE << 3 \n",
    "    XOR32_STATE ^= XOR32_STATE << 25\n",
    "    XOR32_STATE ^= XOR32_STATE >> 23\n",
    "    XOR32_STATE &= 0xFFFFFFFF # Máscara para que sea un numero de 32bits\n",
    "    return XOR32_STATE\n",
    "\n",
    "def Xorshift64():\n",
    "    \"\"\"\n",
    "    Generador de números pseudoaleatorios de 64 bits con estado de 64 bits con parámetros:\n",
    "    • a = 1\n",
    "    • b = 13\n",
    "    • c = 45\n",
    "    \"\"\"\n",
    "    global XOR64_STATE\n",
    "    XOR64_STATE ^= XOR64_STATE >> 45 \n",
    "    XOR64_STATE ^= XOR64_STATE << 13\n",
    "    XOR64_STATE ^= XOR64_STATE >> 1\n",
    "    XOR64_STATE &= 0xFFFFFFFFFFFFFFFF # Máscara para que sea un numero de 64bits\n",
    "    return XOR64_STATE\n",
    "\n",
    "def Xorshift128():\n",
    "    \"\"\"\n",
    "    Generador de números pseudoaleatorios de 64 bits con 2 estados de 64 bits con parámetros:\n",
    "    • a = 23\n",
    "    • b = 18\n",
    "    • c = 5\n",
    "    \"\"\"\n",
    "    global XOR128_STATE\n",
    "    s1 = XOR128_STATE[0]\n",
    "    s0 = XOR128_STATE[1]\n",
    "    result = (s0 + s1) & 0xFFFFFFFFFFFFFFFF # Máscara para que sea un numero de 64bits\n",
    "    XOR128_STATE[0] = s1\n",
    "    s1 ^= s1 << 23\n",
    "    XOR128_STATE[1] = (s1 ^ s0 ^ (s1 >> 18) ^ (s0 >> 5)) & 0xFFFFFFFFFFFFFFFF # Máscara para que sea un numero de 64bits\n",
    "    return result\n"
   ]
  },
  {
   "cell_type": "markdown",
   "id": "52aec61f",
   "metadata": {},
   "source": [
    "## Xoshiro128"
   ]
  },
  {
   "cell_type": "code",
   "execution_count": 196,
   "id": "d6b567a8",
   "metadata": {},
   "outputs": [
    {
     "name": "stdout",
     "output_type": "stream",
     "text": [
      "5548866735\n",
      "Estado 0: 2727247554\n",
      "Estado 1: 1294009636\n",
      "Estado 2: 1921854676\n",
      "Estado 3: 3104291416\n",
      "6134893679\n",
      "Estado 0: 1453900222\n",
      "Estado 1: 2636273458\n",
      "Estado 2: 2450070038\n",
      "Estado 3: 905701281\n",
      "2835181956\n",
      "Estado 0: 4268847405\n",
      "Estado 1: 1501793434\n",
      "Estado 2: 2148515752\n",
      "Estado 3: 3448020294\n",
      "8480402194\n",
      "Estado 0: 1786142961\n",
      "Estado 1: 670908959\n",
      "Estado 2: 2036857477\n",
      "Estado 3: 948888736\n",
      "3977849282\n",
      "Estado 0: 1963312718\n",
      "Estado 1: 887937131\n",
      "Estado 2: 3918898292\n",
      "Estado 3: 2637560059\n",
      "2464508631\n",
      "Estado 0: 3705464542\n",
      "Estado 1: 2826746449\n",
      "Estado 2: 1159771194\n",
      "Estado 3: 3372516686\n",
      "7743929776\n",
      "Estado 0: 3181697473\n",
      "Estado 1: 830531765\n",
      "Estado 2: 1619587300\n",
      "Estado 3: 3254319883\n",
      "6653165696\n",
      "Estado 0: 1306315391\n",
      "Estado 1: 3970744720\n",
      "Estado 2: 3707585317\n",
      "Estado 3: 3231577987\n",
      "2336082950\n",
      "Estado 0: 1642986604\n",
      "Estado 1: 2106411210\n",
      "Estado 2: 3366103386\n",
      "Estado 3: 2310052193\n",
      "5120779105\n",
      "Estado 0: 2513448391\n",
      "Estado 1: 3569491452\n",
      "Estado 2: 3017720118\n",
      "Estado 3: 4002242465\n"
     ]
    }
   ],
   "source": [
    "def rotl32(x, k):\n",
    "    \"\"\"\n",
    "    Función auxiliar que calcula la rotación de k bits del número x y devuelve como resultado\n",
    "    un número de 32 bits.\n",
    "    \"\"\"\n",
    "    return ((x << k) | (x >> (32 - k))) & 0xFFFFFFFF # Máscara para que sea un numero de 32bits\n",
    "\n",
    "def Xoshiro128():\n",
    "    \"\"\"\n",
    "    Generador de números pseudoaleatorios de 32 bits con 4 estados de 32 bits con parámetros:\n",
    "    • a = 9\n",
    "    • b = 11\n",
    "    • r = 7\n",
    "    \"\"\"\n",
    "    global XOSHIRO_STATE\n",
    "    result = (rotl32(XOSHIRO_STATE[0] + XOSHIRO_STATE[3], 7) + XOSHIRO_STATE[0])\n",
    "    t = (XOSHIRO_STATE[1] << 9) & 0xFFFFFFFF # Máscara para que sea un numero de 32bits\n",
    "    XOSHIRO_STATE[2] ^= XOSHIRO_STATE[0]\n",
    "    XOSHIRO_STATE[3] ^= XOSHIRO_STATE[1]\n",
    "    XOSHIRO_STATE[1] ^= XOSHIRO_STATE[2]\n",
    "    XOSHIRO_STATE[0] ^= XOSHIRO_STATE[3] \n",
    "    XOSHIRO_STATE[2] ^= t\n",
    "    XOSHIRO_STATE[3] =  rotl32(XOSHIRO_STATE[3], 11)\n",
    "    return result\n",
    "\n",
    "for i in range(10):\n",
    "    print(Xoshiro128())\n",
    "    print(f\"Estado 0: {XOSHIRO_STATE[0]}\")\n",
    "    print(f\"Estado 1: {XOSHIRO_STATE[1]}\")\n",
    "    print(f\"Estado 2: {XOSHIRO_STATE[2]}\")\n",
    "    print(f\"Estado 3: {XOSHIRO_STATE[3]}\")"
   ]
  }
 ],
 "metadata": {
  "kernelspec": {
   "display_name": "Python 3",
   "language": "python",
   "name": "python3"
  },
  "language_info": {
   "codemirror_mode": {
    "name": "ipython",
    "version": 3
   },
   "file_extension": ".py",
   "mimetype": "text/x-python",
   "name": "python",
   "nbconvert_exporter": "python",
   "pygments_lexer": "ipython3",
   "version": "3.12.3"
  }
 },
 "nbformat": 4,
 "nbformat_minor": 5
}
