{
 "cells": [
  {
   "cell_type": "markdown",
   "id": "45a3d8c2",
   "metadata": {},
   "source": [
    "# PARAMETROS"
   ]
  },
  {
   "cell_type": "code",
   "execution_count": 3,
   "id": "8fd80add",
   "metadata": {},
   "outputs": [],
   "source": [
    "import ctypes\n",
    "import tempfile\n",
    "import subprocess\n",
    "import os\n",
    "\n",
    "c_code = r\"\"\"\n",
    "#include <immintrin.h>\n",
    "\n",
    "int rdseed32(unsigned int *out) {\n",
    "    int ok;\n",
    "    for (int i = 0; i < 10; ++i) {\n",
    "        ok = _rdseed32_step(out);\n",
    "        if (ok) return 1;\n",
    "    }\n",
    "    return 0;\n",
    "}\n",
    "\n",
    "int rdseed64(unsigned long long *out) {\n",
    "    int ok;\n",
    "    for (int i = 0; i < 10; ++i) {\n",
    "        ok = _rdseed64_step(out);\n",
    "        if (ok) return 1;\n",
    "    }\n",
    "    return 0;\n",
    "}\n",
    "\"\"\"\n",
    "\n",
    "def compile_rdseed_lib():\n",
    "    with tempfile.NamedTemporaryFile(suffix=\".c\", delete=False) as f:\n",
    "        f.write(c_code.encode())\n",
    "        c_path = f.name\n",
    "\n",
    "    so_path = c_path.replace(\".c\", \".so\")\n",
    "    compile_cmd = [\n",
    "        \"gcc\", \"-shared\", \"-fPIC\", \"-O2\", \"-mrdseed\", \"-o\", so_path, c_path\n",
    "    ]\n",
    "\n",
    "    subprocess.check_call(compile_cmd)\n",
    "    os.remove(c_path)\n",
    "    return ctypes.CDLL(so_path)\n",
    "\n",
    "# Cargar lib y configurar argumentos\n",
    "_rdseed = compile_rdseed_lib()\n",
    "_rdseed.rdseed32.argtypes = [ctypes.POINTER(ctypes.c_uint)]\n",
    "_rdseed.rdseed32.restype = ctypes.c_int\n",
    "\n",
    "_rdseed.rdseed64.argtypes = [ctypes.POINTER(ctypes.c_ulonglong)]\n",
    "_rdseed.rdseed64.restype = ctypes.c_int\n",
    "\n",
    "# Funciones públicas\n",
    "def seed32():\n",
    "    out = ctypes.c_uint()\n",
    "    if _rdseed.rdseed32(ctypes.byref(out)) == 0:\n",
    "        raise RuntimeError(\"RDSEED32 falló después de varios intentos.\")\n",
    "    return out.value\n",
    "\n",
    "def seed64():\n",
    "    out = ctypes.c_ulonglong()\n",
    "    if _rdseed.rdseed64(ctypes.byref(out)) == 0:\n",
    "        raise RuntimeError(\"RDSEED64 falló después de varios intentos.\")\n",
    "    return out.value\n"
   ]
  },
  {
   "cell_type": "code",
   "execution_count": 1048,
   "id": "68159542",
   "metadata": {},
   "outputs": [],
   "source": [
    "from math import sqrt, pi, erf\n",
    "\n",
    "# Constantes\n",
    "MAX_UINT32 = 0xFFFFFFFF\n",
    "MAX_UINT64 = 0xFFFFFFFFFFFFFFFF\n",
    "sqrtPi = sqrt(pi)\n",
    "erf1 = erf(1)\n",
    "\n",
    "\n",
    "# Generador Congruencial Lineal\n",
    "a = 16807\n",
    "M = 2**31 - 1\n",
    "CGL_STATE = seed32()\n",
    "\n",
    "# Xorshift (32,64,128)\n",
    "XOR32_STATE = seed32()\n",
    "XOR64_STATE = seed64()\n",
    "XOR128_STATE = [seed64(), seed64()]\n",
    "\n",
    "# Xoshiro128\n",
    "XOSHIRO_STATE = [seed32(), seed32(), seed32(), seed32()]"
   ]
  },
  {
   "cell_type": "code",
   "execution_count": 1047,
   "id": "43f93b57",
   "metadata": {},
   "outputs": [
    {
     "name": "stdout",
     "output_type": "stream",
     "text": [
      "{2: 1, 3: 2, 7: 1, 11: 1, 31: 1, 151: 1, 331: 1}\n"
     ]
    }
   ],
   "source": [
    "from sympy import factorint\n",
    "\n",
    "factores_primos = factorint(2**31 - 2)\n",
    "\n",
    "print(factores_primos)\n"
   ]
  },
  {
   "cell_type": "code",
   "execution_count": 6,
   "id": "00e9b53a",
   "metadata": {},
   "outputs": [
    {
     "name": "stdout",
     "output_type": "stream",
     "text": [
      "16807 es raíz primitiva de 2147483647\n"
     ]
    }
   ],
   "source": [
    "flag = True\n",
    "\n",
    "for p in factores_primos:\n",
    "    # print(f\"{pow(a, (M-1) // p, M)}\")\n",
    "    if pow(a, (M-1) // p, M) == 1:\n",
    "        print(f\"{a} NO es raíz primitiva de {M}\")\n",
    "        flag = False\n",
    "        break\n",
    "\n",
    "if flag:\n",
    "    print(f\"{a} es raíz primitiva de {M}\")"
   ]
  },
  {
   "cell_type": "markdown",
   "id": "6f2249d2",
   "metadata": {},
   "source": [
    "# IMPLEMENTACIONES"
   ]
  },
  {
   "cell_type": "markdown",
   "id": "4e436417",
   "metadata": {},
   "source": [
    "## Generador Congruencial Lineal (LCG)"
   ]
  },
  {
   "cell_type": "code",
   "execution_count": 890,
   "id": "e22d51c2",
   "metadata": {},
   "outputs": [],
   "source": [
    "def LCG():\n",
    "    \"\"\"\n",
    "    Generador Múltiplicativo de números pseudoaleatorios normalizados con parámetros:\n",
    "    • a = 16807\n",
    "    • M = 2^31 - 1 = 2147483647\n",
    "    \"\"\"\n",
    "    global CGL_STATE\n",
    "    CGL_STATE = (a*CGL_STATE) % M \n",
    "    return CGL_STATE / M"
   ]
  },
  {
   "cell_type": "markdown",
   "id": "57e075c2",
   "metadata": {},
   "source": [
    "## Xorshifts (32,64,128)"
   ]
  },
  {
   "cell_type": "code",
   "execution_count": 981,
   "id": "25977f2a",
   "metadata": {},
   "outputs": [],
   "source": [
    "def Xorshift32():\n",
    "    \"\"\"\n",
    "    Generador de números pseudoaleatorios normalizados con estado de 32 bits con parámetros:\n",
    "    • a = 3\n",
    "    • b = 23\n",
    "    • c = 25\n",
    "    \"\"\"\n",
    "    global XOR32_STATE\n",
    "    XOR32_STATE ^= XOR32_STATE << 3 \n",
    "    XOR32_STATE ^= XOR32_STATE << 25\n",
    "    XOR32_STATE ^= XOR32_STATE >> 23\n",
    "    XOR32_STATE &= MAX_UINT32 # Máscara para que sea un numero de 32bits\n",
    "    return XOR32_STATE / MAX_UINT32\n",
    "\n",
    "def Xorshift64():\n",
    "    \"\"\"\n",
    "    Generador de números pseudoaleatorios normalizados con estado de 64 bits con parámetros:\n",
    "    • a = 1\n",
    "    • b = 13\n",
    "    • c = 45\n",
    "    \"\"\"\n",
    "    global XOR64_STATE\n",
    "    XOR64_STATE ^= XOR64_STATE >> 45 \n",
    "    XOR64_STATE ^= XOR64_STATE << 13\n",
    "    XOR64_STATE ^= XOR64_STATE >> 1\n",
    "    XOR64_STATE &= MAX_UINT64 # Máscara para que sea un numero de 64bits\n",
    "    return XOR64_STATE / MAX_UINT64\n",
    "\n",
    "def Xorshift128():\n",
    "    \"\"\"\n",
    "    Generador de números pseudoaleatorios normalizados con 2 estados de 64 bits con parámetros:\n",
    "    • a = 23\n",
    "    • b = 18\n",
    "    • c = 5\n",
    "    \"\"\"\n",
    "    global XOR128_STATE\n",
    "    s1 = XOR128_STATE[0]\n",
    "    s0 = XOR128_STATE[1]\n",
    "    result = (s0 + s1) & MAX_UINT64 # Máscara para que sea un numero de 64bits\n",
    "    XOR128_STATE[0] = s0\n",
    "    s1 ^= s1 << 23\n",
    "    XOR128_STATE[1] = (s1 ^ s0 ^ (s1 >> 18) ^ (s0 >> 5)) & MAX_UINT64 # Máscara para que sea un numero de 64bits\n",
    "    return result / MAX_UINT64\n"
   ]
  },
  {
   "cell_type": "markdown",
   "id": "52aec61f",
   "metadata": {},
   "source": [
    "## Xoshiro128"
   ]
  },
  {
   "cell_type": "code",
   "execution_count": 986,
   "id": "d6b567a8",
   "metadata": {},
   "outputs": [],
   "source": [
    "def rotl32(x, k):\n",
    "    \"\"\"\n",
    "    Función auxiliar que calcula la rotación de k bits del número x y devuelve como resultado\n",
    "    un número de 32 bits.\n",
    "    \"\"\"\n",
    "    return ((x << k) | (x >> (32 - k))) & MAX_UINT32 # Máscara para que sea un numero de 32bits\n",
    "\n",
    "def Xoshiro128():\n",
    "    \"\"\"\n",
    "    Generador de números pseudoaleatorios de 32 bits con 4 estados de 32 bits con parámetros:\n",
    "    • a = 9\n",
    "    • b = 11\n",
    "    • r = 7\n",
    "    \"\"\"\n",
    "    global XOSHIRO_STATE\n",
    "    result = (rotl32(XOSHIRO_STATE[0] + XOSHIRO_STATE[3], 7) + XOSHIRO_STATE[0]) & MAX_UINT32 # Máscara para que sea un numero de 32bits\n",
    "    t = (XOSHIRO_STATE[1] << 9) & MAX_UINT32 # Máscara para que sea un numero de 32bits\n",
    "    XOSHIRO_STATE[2] ^= XOSHIRO_STATE[0]\n",
    "    XOSHIRO_STATE[3] ^= XOSHIRO_STATE[1]\n",
    "    XOSHIRO_STATE[1] ^= XOSHIRO_STATE[2]\n",
    "    XOSHIRO_STATE[0] ^= XOSHIRO_STATE[3] \n",
    "    XOSHIRO_STATE[2] ^= t\n",
    "    XOSHIRO_STATE[3] =  rotl32(XOSHIRO_STATE[3], 11)\n",
    "    return result / MAX_UINT32"
   ]
  },
  {
   "cell_type": "markdown",
   "id": "0a6a4c87",
   "metadata": {},
   "source": [
    "## Chequeos"
   ]
  },
  {
   "cell_type": "code",
   "execution_count": null,
   "id": "5722fdf1",
   "metadata": {},
   "outputs": [
    {
     "data": {
      "image/png": "[encoded data removed]",
      "text/plain": [
       "<Figure size 1500x800 with 6 Axes>"
      ]
     },
     "metadata": {},
     "output_type": "display_data"
    }
   ],
   "source": [
    "import matplotlib.pyplot as plt\n",
    "from random import random\n",
    "\n",
    "# Generar muestras\n",
    "N = 1_000_000\n",
    "samples_random = [random() for _ in range(N)]\n",
    "samples_lcg = [LCG() for _ in range(N)]\n",
    "samples_xorshift32 = [Xorshift32() for _ in range(N)]\n",
    "samples_xorshift64 = [Xorshift64() for _ in range(N)]\n",
    "samples_xorshift128 = [Xorshift128() for _ in range(N)]\n",
    "samples_xoshiro128 = [Xoshiro128() for _ in range(N)]\n",
    "\n",
    "# Crear figura con 2 filas y 3 columnas\n",
    "fig, axes = plt.subplots(2, 3, figsize=(15, 8), sharey=True)\n",
    "axes = axes.flatten()\n",
    "\n",
    "# Histograma random()\n",
    "axes[0].hist(samples_random, bins=50, color= '#F76C5E', alpha=0.7)\n",
    "axes[0].set_title('random()')\n",
    "axes[0].set_xlabel('Valor')\n",
    "axes[0].set_ylabel('Frecuencia')\n",
    "\n",
    "# Histograma LCG\n",
    "axes[1].hist(samples_lcg, bins=50, color='#F68E5F', alpha=0.7)\n",
    "axes[1].set_title('LCG (a=16807, M=2^31-1)')\n",
    "axes[1].set_xlabel('Valor')\n",
    "\n",
    "# Histograma Xorshift32\n",
    "axes[2].hist(samples_xorshift32, bins=50, color='#F5DD90', alpha=0.7)\n",
    "axes[2].set_title('Xorshift32')\n",
    "axes[2].set_xlabel('Valor')\n",
    "\n",
    "# Histograma Xorshift64\n",
    "axes[3].hist(samples_xorshift64, bins=50, color='#949083', alpha=0.7)\n",
    "axes[3].set_title('Xorshift64')\n",
    "axes[3].set_xlabel('Valor')\n",
    "axes[3].set_ylabel('Frecuencia')\n",
    "\n",
    "# Histograma Xorshift128\n",
    "axes[4].hist(samples_xorshift128, bins=50, color='#324376', alpha=0.7)\n",
    "axes[4].set_title('Xorshift128')\n",
    "axes[4].set_xlabel('Valor')\n",
    "\n",
    "# Histograma Xoshiro128++\n",
    "axes[5].hist(samples_xoshiro128, bins=50, color='#586BA4', alpha=0.7)\n",
    "axes[5].set_title('Xoshiro128++')\n",
    "axes[5].set_xlabel('Valor')\n",
    "\n",
    "# Ajustar diseño\n",
    "plt.suptitle(f'Comparación de distribuciones (N={N})', fontsize=16)\n",
    "plt.tight_layout(rect=[0, 0, 1, 0.96])\n",
    "plt.show()\n",
    "\n",
    "\n"
   ]
  },
  {
   "cell_type": "markdown",
   "id": "a4637d48",
   "metadata": {},
   "source": [
    "# SIMULACIONES"
   ]
  },
  {
   "cell_type": "code",
   "execution_count": 1049,
   "id": "253236c4",
   "metadata": {},
   "outputs": [
    {
     "name": "stdout",
     "output_type": "stream",
     "text": [
      "LCG          | d=2  | N=10000   | Estimación=0.557266 | Error=4.81e-04 | Tiempo=0.02s\n",
      "LCG          | d=2  | N=100000  | Estimación=0.558269 | Error=5.22e-04 | Tiempo=0.15s\n",
      "LCG          | d=2  | N=1000000 | Estimación=0.557591 | Error=1.56e-04 | Tiempo=1.17s\n",
      "LCG          | d=5  | N=10000   | Estimación=0.232811 | Error=4.88e-04 | Tiempo=0.03s\n",
      "LCG          | d=5  | N=100000  | Estimación=0.231882 | Error=4.41e-04 | Tiempo=0.26s\n",
      "LCG          | d=5  | N=1000000 | Estimación=0.232366 | Error=4.37e-05 | Tiempo=2.76s\n",
      "LCG          | d=10 | N=10000   | Estimación=0.053419 | Error=5.55e-04 | Tiempo=0.05s\n",
      "LCG          | d=10 | N=100000  | Estimación=0.053684 | Error=2.89e-04 | Tiempo=0.51s\n",
      "LCG          | d=10 | N=1000000 | Estimación=0.054026 | Error=5.19e-05 | Tiempo=5.65s\n",
      "Xorshift32   | d=2  | N=10000   | Estimación=0.557395 | Error=3.52e-04 | Tiempo=0.02s\n",
      "Xorshift32   | d=2  | N=100000  | Estimación=0.557735 | Error=1.13e-05 | Tiempo=0.19s\n",
      "Xorshift32   | d=2  | N=1000000 | Estimación=0.557625 | Error=1.21e-04 | Tiempo=1.90s\n",
      "Xorshift32   | d=5  | N=10000   | Estimación=0.231734 | Error=5.88e-04 | Tiempo=0.04s\n",
      "Xorshift32   | d=5  | N=100000  | Estimación=0.231959 | Error=3.64e-04 | Tiempo=0.40s\n",
      "Xorshift32   | d=5  | N=1000000 | Estimación=0.232020 | Error=3.02e-04 | Tiempo=3.80s\n",
      "Xorshift32   | d=10 | N=10000   | Estimación=0.053796 | Error=1.78e-04 | Tiempo=0.07s\n",
      "Xorshift32   | d=10 | N=100000  | Estimación=0.053808 | Error=1.66e-04 | Tiempo=0.69s\n",
      "Xorshift32   | d=10 | N=1000000 | Estimación=0.053823 | Error=1.51e-04 | Tiempo=6.90s\n",
      "Xorshift64   | d=2  | N=10000   | Estimación=0.554495 | Error=3.25e-03 | Tiempo=0.02s\n",
      "Xorshift64   | d=2  | N=100000  | Estimación=0.557023 | Error=7.23e-04 | Tiempo=0.20s\n",
      "Xorshift64   | d=2  | N=1000000 | Estimación=0.557406 | Error=3.41e-04 | Tiempo=2.14s\n",
      "Xorshift64   | d=5  | N=10000   | Estimación=0.230889 | Error=1.43e-03 | Tiempo=0.05s\n",
      "Xorshift64   | d=5  | N=100000  | Estimación=0.232002 | Error=3.21e-04 | Tiempo=0.50s\n",
      "Xorshift64   | d=5  | N=1000000 | Estimación=0.232195 | Error=1.28e-04 | Tiempo=4.96s\n",
      "Xorshift64   | d=10 | N=10000   | Estimación=0.053081 | Error=8.93e-04 | Tiempo=0.09s\n",
      "Xorshift64   | d=10 | N=100000  | Estimación=0.054137 | Error=1.63e-04 | Tiempo=0.99s\n",
      "Xorshift64   | d=10 | N=1000000 | Estimación=0.054013 | Error=3.89e-05 | Tiempo=10.04s\n",
      "Xorshift128  | d=2  | N=10000   | Estimación=0.558555 | Error=8.08e-04 | Tiempo=0.03s\n",
      "Xorshift128  | d=2  | N=100000  | Estimación=0.558353 | Error=6.07e-04 | Tiempo=0.21s\n",
      "Xorshift128  | d=2  | N=1000000 | Estimación=0.557923 | Error=1.77e-04 | Tiempo=2.38s\n",
      "Xorshift128  | d=5  | N=10000   | Estimación=0.231865 | Error=4.58e-04 | Tiempo=0.07s\n",
      "Xorshift128  | d=5  | N=100000  | Estimación=0.232135 | Error=1.87e-04 | Tiempo=0.57s\n",
      "Xorshift128  | d=5  | N=1000000 | Estimación=0.232558 | Error=2.35e-04 | Tiempo=5.25s\n",
      "Xorshift128  | d=10 | N=10000   | Estimación=0.054010 | Error=3.58e-05 | Tiempo=0.10s\n",
      "Xorshift128  | d=10 | N=100000  | Estimación=0.053969 | Error=4.53e-06 | Tiempo=0.98s\n",
      "Xorshift128  | d=10 | N=1000000 | Estimación=0.053994 | Error=1.98e-05 | Tiempo=11.93s\n",
      "Xoshiro128   | d=2  | N=10000   | Estimación=0.558045 | Error=2.99e-04 | Tiempo=0.04s\n",
      "Xoshiro128   | d=2  | N=100000  | Estimación=0.557824 | Error=7.80e-05 | Tiempo=0.42s\n",
      "Xoshiro128   | d=2  | N=1000000 | Estimación=0.557907 | Error=1.61e-04 | Tiempo=3.90s\n",
      "Xoshiro128   | d=5  | N=10000   | Estimación=0.233825 | Error=1.50e-03 | Tiempo=0.08s\n",
      "Xoshiro128   | d=5  | N=100000  | Estimación=0.232119 | Error=2.04e-04 | Tiempo=0.90s\n",
      "Xoshiro128   | d=5  | N=1000000 | Estimación=0.232458 | Error=1.35e-04 | Tiempo=7.30s\n",
      "Xoshiro128   | d=10 | N=10000   | Estimación=0.053493 | Error=4.81e-04 | Tiempo=0.13s\n",
      "Xoshiro128   | d=10 | N=100000  | Estimación=0.054080 | Error=1.06e-04 | Tiempo=1.49s\n",
      "Xoshiro128   | d=10 | N=1000000 | Estimación=0.053926 | Error=4.78e-05 | Tiempo=13.74s\n"
     ]
    }
   ],
   "source": [
    "from math import exp\n",
    "from time import perf_counter as pc\n",
    "\n",
    "def simular(rng, d ,N):\n",
    "    \"\"\"\n",
    "    Dado un generador de numeros aleatorios (rng) normalizados en el intervalo [0,1), estima mediante\n",
    "    el método de Monte Carlo para N simulaciones la integral definida sobre el hipercuobo [0, 1]^d.\n",
    "    También devuelve el tiempo de ejecución como segunda coordenada.\n",
    "    \"\"\"\n",
    "    inicio = pc()\n",
    "    I = 0\n",
    "    for _ in range(N):\n",
    "        prod = 1\n",
    "        for _ in range(d):\n",
    "            X = rng()\n",
    "            prod *= exp(-1 * X**2)\n",
    "        I += prod\n",
    "    final = pc()   \n",
    "\n",
    "    return I/N, final-inicio\n",
    "\n",
    "generadores = {\n",
    "    \"LCG\": LCG,\n",
    "    \"Xorshift32\": Xorshift32,\n",
    "    \"Xorshift64\": Xorshift64,\n",
    "    \"Xorshift128\": Xorshift128,\n",
    "    \"Xoshiro128\": Xoshiro128\n",
    "}\n",
    "\n",
    "dimensiones = [2, 5, 10]\n",
    "tamaños = [10**4, 10**5, 10**6]\n",
    "valores_reales = {d: ((sqrtPi * erf1) / 2) ** d for d in dimensiones}\n",
    "\n",
    "resultados = []\n",
    "\n",
    "for nombre, rng in generadores.items():\n",
    "    for d in dimensiones:\n",
    "        valor_real = valores_reales[d]\n",
    "        for N in tamaños:\n",
    "            estimacion, tiempo = simular(rng, d, N)\n",
    "            error_abs = abs(estimacion - valor_real)\n",
    "            resultados.append((nombre, d, N, estimacion, tiempo, error_abs))\n",
    "            print(f\"{nombre:12} | d={d:<2} | N={N:<7} | Estimación={estimacion:.6f} | \"\n",
    "                  f\"Error={error_abs:.2e} | Tiempo={tiempo:.2f}s\")\n",
    "\n"
   ]
  }
 ],
 "metadata": {
  "kernelspec": {
   "display_name": "Python 3",
   "language": "python",
   "name": "python3"
  },
  "language_info": {
   "codemirror_mode": {
    "name": "ipython",
    "version": 3
   },
   "file_extension": ".py",
   "mimetype": "text/x-python",
   "name": "python",
   "nbconvert_exporter": "python",
   "pygments_lexer": "ipython3",
   "version": "3.12.3"
  }
 },
 "nbformat": 4,
 "nbformat_minor": 5
}
